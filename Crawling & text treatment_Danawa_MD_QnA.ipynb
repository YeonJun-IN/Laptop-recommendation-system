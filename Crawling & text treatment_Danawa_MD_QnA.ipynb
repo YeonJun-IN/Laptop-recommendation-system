{
 "cells": [
  {
   "cell_type": "code",
   "execution_count": 48,
   "metadata": {},
   "outputs": [],
   "source": [
    "from selenium import webdriver\n",
    "import time\n",
    "import pandas as pd\n",
    "import numpy as np\n",
    "import re"
   ]
  },
  {
   "cell_type": "markdown",
   "metadata": {},
   "source": [
    "# 다나와 사이트 크롤링"
   ]
  },
  {
   "cell_type": "markdown",
   "metadata": {},
   "source": [
    "### 크롬 드라이버 경로 지정"
   ]
  },
  {
   "cell_type": "code",
   "execution_count": 43,
   "metadata": {},
   "outputs": [],
   "source": [
    "path = 'C:/Users/mbnb8/Downloads/chromedriver.exe'"
   ]
  },
  {
   "cell_type": "code",
   "execution_count": 44,
   "metadata": {
    "scrolled": true
   },
   "outputs": [],
   "source": [
    "driver = webdriver.Chrome(path) \n",
    "#여기서 우리가 제어하고자 하는 chrom 창이 뜸.\n",
    "#그거 끄면 안됨"
   ]
  },
  {
   "cell_type": "markdown",
   "metadata": {},
   "source": [
    "### 크롤링 하고자 하는 링크 get"
   ]
  },
  {
   "cell_type": "code",
   "execution_count": 45,
   "metadata": {
    "scrolled": true
   },
   "outputs": [],
   "source": [
    "driver.get('http://cws.danawa.com/cmRecommend/cm_List.php?nSite=5&logger_kw=cmnotebook_shoppinghelp')\n",
    "time.sleep(1)\n",
    "#실행하면 해당 링크가 크롬창으로 열린다"
   ]
  },
  {
   "cell_type": "markdown",
   "metadata": {},
   "source": [
    "### 1페이지 부터 10페이지 까지 끌어오기"
   ]
  },
  {
   "cell_type": "code",
   "execution_count": 89,
   "metadata": {},
   "outputs": [],
   "source": [
    "text = []\n",
    "user = []\n",
    "for i in range(1,10+1): \n",
    "    #1페이지에서 2페이지갈 때는 i:1, 2에서 3갈때는 i:2, 9에서 10갈때는 i:9\n",
    "    text_page = driver.find_elements_by_class_name(\"comment\")\n",
    "    user_page = driver.find_elements_by_class_name(\"user\")\n",
    "    num_text_in_page = len(text_page)\n",
    "    \n",
    "    for j in range(num_text_in_page):\n",
    "        text += [text_page[j].text]\n",
    "        user += [user_page[j].text]\n",
    "    \n",
    "    driver.find_elements_by_xpath(\"\"\"//*[@id=\"qna_List\"]/ul/div/div/a[\"\"\"+str(i)+\"\"\"]\"\"\")[0].click()\n",
    "    time.sleep(2)\n",
    "\n",
    "for h in range(30): #30으로 핳면 310페이지 까지\n",
    "    for i in range(2,11+1):\n",
    "        text_page = driver.find_elements_by_class_name(\"comment\")\n",
    "        user_page = driver.find_elements_by_class_name(\"user\")\n",
    "        num_text_in_page = len(text_page)\n",
    "    \n",
    "        for j in range(num_text_in_page):\n",
    "            text += [text_page[j].text]\n",
    "            user += [user_page[j].text]\n",
    "    \n",
    "        driver.find_elements_by_xpath(\"\"\"//*[@id=\"qna_List\"]/ul/div/div/a[\"\"\"+str(i)+\"\"\"]\"\"\")[0].click()\n",
    "        time.sleep(2)\n"
   ]
  },
  {
   "cell_type": "code",
   "execution_count": 92,
   "metadata": {},
   "outputs": [],
   "source": [
    "data = pd.DataFrame({'user': user,'comment': text})"
   ]
  },
  {
   "cell_type": "code",
   "execution_count": 94,
   "metadata": {},
   "outputs": [],
   "source": [
    "#data.to_csv('data.csv',encoding='ms949')"
   ]
  },
  {
   "cell_type": "markdown",
   "metadata": {},
   "source": [
    "# 크롤링한 데이터 텍스트 처리"
   ]
  },
  {
   "cell_type": "code",
   "execution_count": 98,
   "metadata": {},
   "outputs": [],
   "source": [
    "#data = pd.read_csv('data.csv',encoding='ms949')"
   ]
  },
  {
   "cell_type": "code",
   "execution_count": 99,
   "metadata": {
    "scrolled": true
   },
   "outputs": [
    {
     "data": {
      "text/html": [
       "<div>\n",
       "<style scoped>\n",
       "    .dataframe tbody tr th:only-of-type {\n",
       "        vertical-align: middle;\n",
       "    }\n",
       "\n",
       "    .dataframe tbody tr th {\n",
       "        vertical-align: top;\n",
       "    }\n",
       "\n",
       "    .dataframe thead th {\n",
       "        text-align: right;\n",
       "    }\n",
       "</style>\n",
       "<table border=\"1\" class=\"dataframe\">\n",
       "  <thead>\n",
       "    <tr style=\"text-align: right;\">\n",
       "      <th></th>\n",
       "      <th>Unnamed: 0</th>\n",
       "      <th>user</th>\n",
       "      <th>comment</th>\n",
       "    </tr>\n",
       "  </thead>\n",
       "  <tbody>\n",
       "    <tr>\n",
       "      <th>0</th>\n",
       "      <td>0</td>\n",
       "      <td>L1 쥬쥬쥬쥬 (jjooo77) 님 | 203.229.xxx.71 | 2019.04.27</td>\n",
       "      <td>1. 사용 용도 (사용하는 프로그램/게임명 기재)\\r\\n-문서편집,넷플릭스시청,인터...</td>\n",
       "    </tr>\n",
       "    <tr>\n",
       "      <th>1</th>\n",
       "      <td>1</td>\n",
       "      <td>L1 새얀이 (nasujin95) 님 | 223.33.xxx.112 | 2019.0...</td>\n",
       "      <td>1.동영상 편집 / 프리미어 프로\\r\\n2. 100~150 만원\\r\\n3. 숫자 키...</td>\n",
       "    </tr>\n",
       "    <tr>\n",
       "      <th>2</th>\n",
       "      <td>2</td>\n",
       "      <td>L1 오늘어때 (K0081652057) 님 | 223.62.xxx.132 | 201...</td>\n",
       "      <td>1. 사용 용도 업무용 엑셀 워드 캐드\\r\\n2. 원하는 가격대 150만 이하\\r\\...</td>\n",
       "    </tr>\n",
       "    <tr>\n",
       "      <th>3</th>\n",
       "      <td>3</td>\n",
       "      <td>L1 tn4mwqz8phb (aredu) 님 | 61.101.xxx.155 | 20...</td>\n",
       "      <td>1. 사용 용도 (사용하는 프로그램/게임명 기재)\\r\\n인터넷(유튜브), 한글, M...</td>\n",
       "    </tr>\n",
       "    <tr>\n",
       "      <th>4</th>\n",
       "      <td>4</td>\n",
       "      <td>L1 sootaejy (sootaejy) 님 | 147.47.xxx.230 | 20...</td>\n",
       "      <td>1. 사용 용도 (사용하는 프로그램/게임명 기재)\\r\\n오피스, 간단한 프로그래밍 ...</td>\n",
       "    </tr>\n",
       "  </tbody>\n",
       "</table>\n",
       "</div>"
      ],
      "text/plain": [
       "   Unnamed: 0                                               user  \\\n",
       "0           0  L1 쥬쥬쥬쥬 (jjooo77) 님 | 203.229.xxx.71 | 2019.04.27   \n",
       "1           1  L1 새얀이 (nasujin95) 님 | 223.33.xxx.112 | 2019.0...   \n",
       "2           2  L1 오늘어때 (K0081652057) 님 | 223.62.xxx.132 | 201...   \n",
       "3           3  L1 tn4mwqz8phb (aredu) 님 | 61.101.xxx.155 | 20...   \n",
       "4           4  L1 sootaejy (sootaejy) 님 | 147.47.xxx.230 | 20...   \n",
       "\n",
       "                                             comment  \n",
       "0  1. 사용 용도 (사용하는 프로그램/게임명 기재)\\r\\n-문서편집,넷플릭스시청,인터...  \n",
       "1  1.동영상 편집 / 프리미어 프로\\r\\n2. 100~150 만원\\r\\n3. 숫자 키...  \n",
       "2  1. 사용 용도 업무용 엑셀 워드 캐드\\r\\n2. 원하는 가격대 150만 이하\\r\\...  \n",
       "3  1. 사용 용도 (사용하는 프로그램/게임명 기재)\\r\\n인터넷(유튜브), 한글, M...  \n",
       "4  1. 사용 용도 (사용하는 프로그램/게임명 기재)\\r\\n오피스, 간단한 프로그래밍 ...  "
      ]
     },
     "execution_count": 99,
     "metadata": {},
     "output_type": "execute_result"
    }
   ],
   "source": [
    "data.head()"
   ]
  },
  {
   "cell_type": "markdown",
   "metadata": {},
   "source": [
    "### user 열에서 0000.00.00의 날짜 정보만 뽑아오기"
   ]
  },
  {
   "cell_type": "code",
   "execution_count": 100,
   "metadata": {},
   "outputs": [],
   "source": [
    "data['date'] = data['user'].str.extract('(\\d{4}\\.\\d{2}\\.\\d{2})')"
   ]
  },
  {
   "cell_type": "code",
   "execution_count": 102,
   "metadata": {},
   "outputs": [
    {
     "data": {
      "text/html": [
       "<div>\n",
       "<style scoped>\n",
       "    .dataframe tbody tr th:only-of-type {\n",
       "        vertical-align: middle;\n",
       "    }\n",
       "\n",
       "    .dataframe tbody tr th {\n",
       "        vertical-align: top;\n",
       "    }\n",
       "\n",
       "    .dataframe thead th {\n",
       "        text-align: right;\n",
       "    }\n",
       "</style>\n",
       "<table border=\"1\" class=\"dataframe\">\n",
       "  <thead>\n",
       "    <tr style=\"text-align: right;\">\n",
       "      <th></th>\n",
       "      <th>Unnamed: 0</th>\n",
       "      <th>user</th>\n",
       "      <th>comment</th>\n",
       "      <th>date</th>\n",
       "    </tr>\n",
       "  </thead>\n",
       "  <tbody>\n",
       "    <tr>\n",
       "      <th>0</th>\n",
       "      <td>0</td>\n",
       "      <td>L1 쥬쥬쥬쥬 (jjooo77) 님 | 203.229.xxx.71 | 2019.04.27</td>\n",
       "      <td>1. 사용 용도 (사용하는 프로그램/게임명 기재)\\r\\n-문서편집,넷플릭스시청,인터...</td>\n",
       "      <td>2019.04.27</td>\n",
       "    </tr>\n",
       "    <tr>\n",
       "      <th>1</th>\n",
       "      <td>1</td>\n",
       "      <td>L1 새얀이 (nasujin95) 님 | 223.33.xxx.112 | 2019.0...</td>\n",
       "      <td>1.동영상 편집 / 프리미어 프로\\r\\n2. 100~150 만원\\r\\n3. 숫자 키...</td>\n",
       "      <td>2019.04.27</td>\n",
       "    </tr>\n",
       "    <tr>\n",
       "      <th>2</th>\n",
       "      <td>2</td>\n",
       "      <td>L1 오늘어때 (K0081652057) 님 | 223.62.xxx.132 | 201...</td>\n",
       "      <td>1. 사용 용도 업무용 엑셀 워드 캐드\\r\\n2. 원하는 가격대 150만 이하\\r\\...</td>\n",
       "      <td>2019.04.27</td>\n",
       "    </tr>\n",
       "    <tr>\n",
       "      <th>3</th>\n",
       "      <td>3</td>\n",
       "      <td>L1 tn4mwqz8phb (aredu) 님 | 61.101.xxx.155 | 20...</td>\n",
       "      <td>1. 사용 용도 (사용하는 프로그램/게임명 기재)\\r\\n인터넷(유튜브), 한글, M...</td>\n",
       "      <td>2019.04.26</td>\n",
       "    </tr>\n",
       "    <tr>\n",
       "      <th>4</th>\n",
       "      <td>4</td>\n",
       "      <td>L1 sootaejy (sootaejy) 님 | 147.47.xxx.230 | 20...</td>\n",
       "      <td>1. 사용 용도 (사용하는 프로그램/게임명 기재)\\r\\n오피스, 간단한 프로그래밍 ...</td>\n",
       "      <td>2019.04.26</td>\n",
       "    </tr>\n",
       "  </tbody>\n",
       "</table>\n",
       "</div>"
      ],
      "text/plain": [
       "   Unnamed: 0                                               user  \\\n",
       "0           0  L1 쥬쥬쥬쥬 (jjooo77) 님 | 203.229.xxx.71 | 2019.04.27   \n",
       "1           1  L1 새얀이 (nasujin95) 님 | 223.33.xxx.112 | 2019.0...   \n",
       "2           2  L1 오늘어때 (K0081652057) 님 | 223.62.xxx.132 | 201...   \n",
       "3           3  L1 tn4mwqz8phb (aredu) 님 | 61.101.xxx.155 | 20...   \n",
       "4           4  L1 sootaejy (sootaejy) 님 | 147.47.xxx.230 | 20...   \n",
       "\n",
       "                                             comment        date  \n",
       "0  1. 사용 용도 (사용하는 프로그램/게임명 기재)\\r\\n-문서편집,넷플릭스시청,인터...  2019.04.27  \n",
       "1  1.동영상 편집 / 프리미어 프로\\r\\n2. 100~150 만원\\r\\n3. 숫자 키...  2019.04.27  \n",
       "2  1. 사용 용도 업무용 엑셀 워드 캐드\\r\\n2. 원하는 가격대 150만 이하\\r\\...  2019.04.27  \n",
       "3  1. 사용 용도 (사용하는 프로그램/게임명 기재)\\r\\n인터넷(유튜브), 한글, M...  2019.04.26  \n",
       "4  1. 사용 용도 (사용하는 프로그램/게임명 기재)\\r\\n오피스, 간단한 프로그래밍 ...  2019.04.26  "
      ]
     },
     "execution_count": 102,
     "metadata": {},
     "output_type": "execute_result"
    }
   ],
   "source": [
    "data.head()"
   ]
  },
  {
   "cell_type": "markdown",
   "metadata": {},
   "source": [
    "### comment 열에서 '1. 사용 용도'에 해당하는 텍스트만 가져오기"
   ]
  },
  {
   "cell_type": "code",
   "execution_count": 103,
   "metadata": {},
   "outputs": [],
   "source": [
    "len = data.shape[0]\n",
    "purpose = []\n",
    "for i in range(len):\n",
    "    a = data['comment'][i].partition('2.')[0] #'2.' 이전의 문자열 가져오기\n",
    "    b = re.sub('[-=+,#/\\?:^$.@*\\\"※~&%ㆍ!』\\\\‘|\\(\\)\\[\\]\\<\\>`\\'…》]',' ',a) # 특수문자 제거\n",
    "    c = re.sub('\\r\\n',' ',b) # \\r\\n 제거\n",
    "    purpose += [c]"
   ]
  },
  {
   "cell_type": "markdown",
   "metadata": {},
   "source": [
    "### word 단위로 쪼개기"
   ]
  },
  {
   "cell_type": "code",
   "execution_count": 104,
   "metadata": {},
   "outputs": [],
   "source": [
    "purpose_detail = []\n",
    "for pur in purpose:\n",
    "    purpose_detail += [pur.split()]\n",
    "\n",
    "purpose_df = pd.DataFrame({'purpose': purpose_detail})\n",
    "\n",
    "data1 = pd.concat([data,purpose_df],axis=1)[['date','purpose']]"
   ]
  },
  {
   "cell_type": "code",
   "execution_count": 105,
   "metadata": {},
   "outputs": [
    {
     "data": {
      "text/html": [
       "<div>\n",
       "<style scoped>\n",
       "    .dataframe tbody tr th:only-of-type {\n",
       "        vertical-align: middle;\n",
       "    }\n",
       "\n",
       "    .dataframe tbody tr th {\n",
       "        vertical-align: top;\n",
       "    }\n",
       "\n",
       "    .dataframe thead th {\n",
       "        text-align: right;\n",
       "    }\n",
       "</style>\n",
       "<table border=\"1\" class=\"dataframe\">\n",
       "  <thead>\n",
       "    <tr style=\"text-align: right;\">\n",
       "      <th></th>\n",
       "      <th>date</th>\n",
       "      <th>purpose</th>\n",
       "    </tr>\n",
       "  </thead>\n",
       "  <tbody>\n",
       "    <tr>\n",
       "      <th>0</th>\n",
       "      <td>2019.04.27</td>\n",
       "      <td>[1, 사용, 용도, 사용하는, 프로그램, 게임명, 기재, 문서편집, 넷플릭스시청,...</td>\n",
       "    </tr>\n",
       "    <tr>\n",
       "      <th>1</th>\n",
       "      <td>2019.04.27</td>\n",
       "      <td>[1, 동영상, 편집, 프리미어, 프로]</td>\n",
       "    </tr>\n",
       "    <tr>\n",
       "      <th>2</th>\n",
       "      <td>2019.04.27</td>\n",
       "      <td>[1, 사용, 용도, 업무용, 엑셀, 워드, 캐드]</td>\n",
       "    </tr>\n",
       "    <tr>\n",
       "      <th>3</th>\n",
       "      <td>2019.04.26</td>\n",
       "      <td>[1, 사용, 용도, 사용하는, 프로그램, 게임명, 기재, 인터넷, 유튜브, 한글,...</td>\n",
       "    </tr>\n",
       "    <tr>\n",
       "      <th>4</th>\n",
       "      <td>2019.04.26</td>\n",
       "      <td>[1, 사용, 용도, 사용하는, 프로그램, 게임명, 기재, 오피스, 간단한, 프로그...</td>\n",
       "    </tr>\n",
       "  </tbody>\n",
       "</table>\n",
       "</div>"
      ],
      "text/plain": [
       "         date                                            purpose\n",
       "0  2019.04.27  [1, 사용, 용도, 사용하는, 프로그램, 게임명, 기재, 문서편집, 넷플릭스시청,...\n",
       "1  2019.04.27                             [1, 동영상, 편집, 프리미어, 프로]\n",
       "2  2019.04.27                       [1, 사용, 용도, 업무용, 엑셀, 워드, 캐드]\n",
       "3  2019.04.26  [1, 사용, 용도, 사용하는, 프로그램, 게임명, 기재, 인터넷, 유튜브, 한글,...\n",
       "4  2019.04.26  [1, 사용, 용도, 사용하는, 프로그램, 게임명, 기재, 오피스, 간단한, 프로그..."
      ]
     },
     "execution_count": 105,
     "metadata": {},
     "output_type": "execute_result"
    }
   ],
   "source": [
    "data1.head()"
   ]
  },
  {
   "cell_type": "code",
   "execution_count": 97,
   "metadata": {},
   "outputs": [],
   "source": [
    "#data1.to_csv('date & purpose split.csv',encoding='ms949')"
   ]
  }
 ],
 "metadata": {
  "kernelspec": {
   "display_name": "Python 3",
   "language": "python",
   "name": "python3"
  },
  "language_info": {
   "codemirror_mode": {
    "name": "ipython",
    "version": 3
   },
   "file_extension": ".py",
   "mimetype": "text/x-python",
   "name": "python",
   "nbconvert_exporter": "python",
   "pygments_lexer": "ipython3",
   "version": "3.6.5"
  }
 },
 "nbformat": 4,
 "nbformat_minor": 2
}
