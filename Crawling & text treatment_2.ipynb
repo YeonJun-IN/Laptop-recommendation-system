{
 "cells": [
  {
   "cell_type": "code",
   "execution_count": 1,
   "metadata": {},
   "outputs": [],
   "source": [
    "from selenium import webdriver\n",
    "import time\n",
    "import pandas as pd\n",
    "import numpy as np\n",
    "import re"
   ]
  },
  {
   "cell_type": "markdown",
   "metadata": {},
   "source": [
    "# 다나와 사이트 크롤링"
   ]
  },
  {
   "cell_type": "markdown",
   "metadata": {},
   "source": [
    "### 크롬 드라이버 경로 지정"
   ]
  },
  {
   "cell_type": "code",
   "execution_count": 8,
   "metadata": {},
   "outputs": [],
   "source": [
    "path = 'C:/Users/mbnb8/Downloads/chromedriver.exe'"
   ]
  },
  {
   "cell_type": "code",
   "execution_count": 9,
   "metadata": {
    "scrolled": true
   },
   "outputs": [],
   "source": [
    "driver = webdriver.Chrome(path) \n",
    "#여기서 우리가 제어하고자 하는 chrom 창이 뜸.\n",
    "#그거 끄면 안됨"
   ]
  },
  {
   "cell_type": "markdown",
   "metadata": {},
   "source": [
    "### 크롤링 하고자 하는 링크 get"
   ]
  },
  {
   "cell_type": "code",
   "execution_count": 10,
   "metadata": {
    "scrolled": true
   },
   "outputs": [],
   "source": [
    "driver.get('ㅋㅋ')\n",
    "time.sleep(1)\n",
    "#실행하면 해당 링크가 크롬창으로 열린다"
   ]
  },
  {
   "cell_type": "markdown",
   "metadata": {},
   "source": [
    "### 1페이지 부터 여러페이지 끌어오기"
   ]
  },
  {
   "cell_type": "code",
   "execution_count": 175,
   "metadata": {},
   "outputs": [],
   "source": [
    "text = []\n",
    "user = []\n",
    "recommendation = []\n",
    "for i in range(1,10+1): \n",
    "    #1페이지에서 2페이지갈 때는 i:1, 2에서 3갈때는 i:2, 9에서 10갈때는 i:9\n",
    "    text_page = driver.find_elements_by_class_name(\"comment\")\n",
    "    user_page = driver.find_elements_by_class_name(\"user\")\n",
    "    num_text_in_page = len(text_page)\n",
    "    \n",
    "    for j in range(num_text_in_page):\n",
    "        text += [text_page[j].text]\n",
    "        user += [user_page[j].text]\n",
    "    \n",
    "    for k in (2,4,6,8,10,12):\n",
    "        recom_page = driver.find_elements_by_xpath(\"\"\"//*[@id=\"qna_List\"]/ul/li[\"\"\"+str(k)+\"\"\"]/div/dl/dd/ul/li/div/a/strong\"\"\")\n",
    "        recom_num = len(recom_page)\n",
    "        recommendation_1 = []\n",
    "        for a in range(recom_num):\n",
    "            recommendation_1 += [recom_page[a].text]\n",
    "        recommendation += [recommendation_1]\n",
    "    \n",
    "    driver.find_elements_by_xpath(\"\"\"//*[@id=\"qna_List\"]/ul/div/div/a[\"\"\"+str(i)+\"\"\"]\"\"\")[0].click()\n",
    "    time.sleep(1)\n",
    "\n",
    "for h in range(3): #30으로 핳면 310페이지 까지\n",
    "    for i in range(2,11+1):\n",
    "        text_page = driver.find_elements_by_class_name(\"comment\")\n",
    "        user_page = driver.find_elements_by_class_name(\"user\")\n",
    "        num_text_in_page = len(text_page)\n",
    "    \n",
    "        for j in range(num_text_in_page):\n",
    "            text += [text_page[j].text]\n",
    "            user += [user_page[j].text]\n",
    "            \n",
    "        for k in (2,4,6,8,10,12):\n",
    "            recom_page = driver.find_elements_by_xpath(\"\"\"//*[@id=\"qna_List\"]/ul/li[\"\"\"+str(k)+\"\"\"]/div/dl/dd/ul/li/div/a/strong\"\"\")\n",
    "            recom_num = len(recom_page)\n",
    "            recommendation_1 = []\n",
    "            for a in range(recom_num):\n",
    "                recommendation_1 += [recom_page[a].text]\n",
    "            recommendation += [recommendation_1]\n",
    "    \n",
    "        driver.find_elements_by_xpath(\"\"\"//*[@id=\"qna_List\"]/ul/div/div/a[\"\"\"+str(i)+\"\"\"]\"\"\")[0].click()\n",
    "        time.sleep(1)\n"
   ]
  },
  {
   "cell_type": "code",
   "execution_count": 12,
   "metadata": {},
   "outputs": [],
   "source": [
    "data = pd.DataFrame({'user': user,'comment': text, 'recommendation': recommendation})"
   ]
  },
  {
   "cell_type": "code",
   "execution_count": 328,
   "metadata": {},
   "outputs": [],
   "source": [
    "data.to_csv('data1_2.csv',encoding='ms949')"
   ]
  },
  {
   "cell_type": "markdown",
   "metadata": {},
   "source": [
    "# 크롤링한 데이터 텍스트 처리"
   ]
  },
  {
   "cell_type": "code",
   "execution_count": 3,
   "metadata": {},
   "outputs": [],
   "source": [
    "dat1 = pd.read_csv('data1_1.csv',encoding='ms949')\n",
    "dat2 = pd.read_csv('data1_2.csv',encoding='ms949')"
   ]
  },
  {
   "cell_type": "code",
   "execution_count": 4,
   "metadata": {
    "scrolled": false
   },
   "outputs": [],
   "source": [
    "data = pd.concat([dat1,dat2])"
   ]
  },
  {
   "cell_type": "markdown",
   "metadata": {},
   "source": [
    "### user 열에서 0000.00.00의 날짜 정보만 뽑아오기"
   ]
  },
  {
   "cell_type": "code",
   "execution_count": 13,
   "metadata": {},
   "outputs": [],
   "source": [
    "data['date'] = data['user'].str.extract('(\\d{4}\\.\\d{2}\\.\\d{2})')"
   ]
  },
  {
   "cell_type": "code",
   "execution_count": 14,
   "metadata": {},
   "outputs": [
    {
     "data": {
      "text/plain": [
       "'1. 사용 용도 (사용하는 프로그램/게임명 기재)\\n라이트룸, 포토샵, 프리미어프로, 에프터이팩트(사진, 영상작업 위주이고 게임 안합니다)\\n2. 원하는 가격대\\n150~200만원\\n3. 크기와 무게 (선호하는 크기, 무게 / 휴대 여부)\\n되도록이면 2kg이내였으면 좋겠고, 2kg이 넘어도 상관은 없음\\n4. 운영체제 필요 여부 (ex. 필요 없음, 윈도우10 등)\\n윈도우10\\n5. 선호하는 제조사\\n상관없음(AS 편한 제조사)\\n6. 기피하는 제조사\\nAS 불편한 제조사\\n7. 그 외 조건 (저장장치/색상/특정 입출력단자 등)\\n광시야각, SRGB100%이상, 램16G이상, SSD256G이상'"
      ]
     },
     "execution_count": 14,
     "metadata": {},
     "output_type": "execute_result"
    }
   ],
   "source": [
    "data['comment'][0]"
   ]
  },
  {
   "cell_type": "markdown",
   "metadata": {},
   "source": [
    "### comment 열에서 '1' '2' '3' ... 을 나눠서  해당하는 텍스트 가져오기"
   ]
  },
  {
   "cell_type": "code",
   "execution_count": 15,
   "metadata": {},
   "outputs": [],
   "source": [
    "purpose = []\n",
    "for com in data['comment']:\n",
    "    a = com.partition('2.')[0] #'2.' 이전의 문자열 가져오기\n",
    "    b = re.sub('[-=+,#/\\?:^$.@*\\\"※~&%ㆍ!』\\\\‘|\\(\\)\\[\\]\\<\\>`\\'…》]',' ',a) # 특수문자 제거\n",
    "    c = re.sub('\\r\\n',' ',b) # \\r\\n 제거\n",
    "    purpose += [c]"
   ]
  },
  {
   "cell_type": "code",
   "execution_count": 15,
   "metadata": {},
   "outputs": [],
   "source": [
    "#reindex\n",
    "data.reset_index(inplace=True)"
   ]
  },
  {
   "cell_type": "code",
   "execution_count": 16,
   "metadata": {},
   "outputs": [],
   "source": [
    "purpose = []\n",
    "price = []\n",
    "size = []\n",
    "OS = []\n",
    "brand_prefer = []\n",
    "brand_hater = []\n",
    "etc = []\n",
    "for com in data['comment']:\n",
    "    a = com.partition('2.') \n",
    "    b = a[2].partition('3.') \n",
    "    c = b[2].partition('4.') \n",
    "    d = c[2].partition('5.') \n",
    "    e = d[2].partition('6.') \n",
    "    f = e[2].partition('7.') \n",
    "    \n",
    "    #c = re.sub('[-=+,#/\\?:^$.@*\\\"※~&%ㆍ!』\\\\‘|\\(\\)\\[\\]\\<\\>`\\'…》]',' ',b) # 특수문자 제거\n",
    "    #d = re.sub('\\r\\n',' ',b) # \\r\\n 제거\n",
    "    purpose += [a[0]]\n",
    "    price += [b[0]]\n",
    "    size += [c[0]]\n",
    "    OS += [d[0]]\n",
    "    brand_prefer += [e[0]]\n",
    "    brand_hater += [f[0]]\n",
    "    etc += [f[2]]"
   ]
  },
  {
   "cell_type": "code",
   "execution_count": 17,
   "metadata": {},
   "outputs": [],
   "source": [
    "purpose_new = []\n",
    "price_new = []\n",
    "size_new = []\n",
    "OS_new = []\n",
    "br_pre = []\n",
    "br_hat = []\n",
    "etcc = []\n",
    "for pur,pr,sz,os,bp,bh,et in zip(purpose,price,size,OS,brand_prefer,brand_hater,etc):\n",
    "    purpose_new += [pur.replace('1. ','').replace('사용 용도 (사용하는 프로그램/게임명 기재)','').replace('사용 용도','').replace('\\r\\n','')]\n",
    "    price_new += [pr.replace('원하는 가격대','').replace('\\r\\n','')]\n",
    "    size_new += [sz.replace('크기와 무게 (선호하는 크기, 무게 / 휴대 여부)','').replace('크기와 무게','').replace('\\r\\n','')]\n",
    "    OS_new += [os.replace('운영체제 필요 여부 (ex. 필요 없음, 윈도우10 등)','').replace('운영체제 필요 여부','').replace('\\r\\n','')]\n",
    "    br_pre += [bp.replace('선호하는 제조사','').replace('\\r\\n','')]\n",
    "    br_hat += [bp.replace('기피하는 제조사','').replace('\\r\\n','')]\n",
    "    etcc += [et.replace('그 외 조건 (저장장치/색상/특정 입출력단자 등)','').replace('그 외 조건','').replace('\\r\\n','')]"
   ]
  },
  {
   "cell_type": "code",
   "execution_count": 18,
   "metadata": {},
   "outputs": [],
   "source": [
    "data3 = pd.DataFrame({'purpose': purpose_new,'price' : price_new,'size':size_new,'OS':OS_new,'brand_prefer':br_pre,'brande_hate':br_hat,'etc':etcc})"
   ]
  },
  {
   "cell_type": "code",
   "execution_count": 19,
   "metadata": {},
   "outputs": [],
   "source": [
    "pd.concat([data,data3],1).to_csv('first_trial2.csv',encoding='ms949')"
   ]
  },
  {
   "cell_type": "markdown",
   "metadata": {},
   "source": [
    "### word 단위로 쪼개기"
   ]
  },
  {
   "cell_type": "code",
   "execution_count": 16,
   "metadata": {},
   "outputs": [],
   "source": [
    "purpose_detail = []\n",
    "for pur in purpose:\n",
    "    purpose_detail += [pur.split()]\n",
    "\n",
    "purpose_df = pd.DataFrame({'purpose': purpose_detail})\n",
    "\n",
    "data1 = pd.concat([data,purpose_df],axis=1)[['date','purpose','recommendation']]"
   ]
  },
  {
   "cell_type": "code",
   "execution_count": 17,
   "metadata": {
    "scrolled": true
   },
   "outputs": [
    {
     "data": {
      "text/html": [
       "<div>\n",
       "<style scoped>\n",
       "    .dataframe tbody tr th:only-of-type {\n",
       "        vertical-align: middle;\n",
       "    }\n",
       "\n",
       "    .dataframe tbody tr th {\n",
       "        vertical-align: top;\n",
       "    }\n",
       "\n",
       "    .dataframe thead th {\n",
       "        text-align: right;\n",
       "    }\n",
       "</style>\n",
       "<table border=\"1\" class=\"dataframe\">\n",
       "  <thead>\n",
       "    <tr style=\"text-align: right;\">\n",
       "      <th></th>\n",
       "      <th>date</th>\n",
       "      <th>purpose</th>\n",
       "      <th>recommendation</th>\n",
       "    </tr>\n",
       "  </thead>\n",
       "  <tbody>\n",
       "    <tr>\n",
       "      <th>0</th>\n",
       "      <td>2019.04.28</td>\n",
       "      <td>[1, 사용, 용도, 사용하는, 프로그램, 게임명, 기재, 솔리드웍스, 게임은, 롤...</td>\n",
       "      <td>[]</td>\n",
       "    </tr>\n",
       "    <tr>\n",
       "      <th>1</th>\n",
       "      <td>2019.04.28</td>\n",
       "      <td>[1, 사용, 용도, 사용하는, 프로그램, 게임명, 기재, 워드, 및, 사무용]</td>\n",
       "      <td>[]</td>\n",
       "    </tr>\n",
       "    <tr>\n",
       "      <th>2</th>\n",
       "      <td>2019.04.28</td>\n",
       "      <td>[1, 사용, 용도, 사용하는, 프로그램, 게임명, 기재, 문서, 작업, 영화, 음...</td>\n",
       "      <td>[]</td>\n",
       "    </tr>\n",
       "    <tr>\n",
       "      <th>3</th>\n",
       "      <td>2019.04.28</td>\n",
       "      <td>[1, 사용, 용도, 사용하는, 프로그램, 게임명, 기재, 강의들을때, 사용할, 자...</td>\n",
       "      <td>[]</td>\n",
       "    </tr>\n",
       "    <tr>\n",
       "      <th>4</th>\n",
       "      <td>2019.04.28</td>\n",
       "      <td>[1, 사용, 용도, 사용하는, 프로그램, 게임명, 기재, 문서편집, 넷플릭스시청,...</td>\n",
       "      <td>[]</td>\n",
       "    </tr>\n",
       "  </tbody>\n",
       "</table>\n",
       "</div>"
      ],
      "text/plain": [
       "         date                                            purpose  \\\n",
       "0  2019.04.28  [1, 사용, 용도, 사용하는, 프로그램, 게임명, 기재, 솔리드웍스, 게임은, 롤...   \n",
       "1  2019.04.28       [1, 사용, 용도, 사용하는, 프로그램, 게임명, 기재, 워드, 및, 사무용]   \n",
       "2  2019.04.28  [1, 사용, 용도, 사용하는, 프로그램, 게임명, 기재, 문서, 작업, 영화, 음...   \n",
       "3  2019.04.28  [1, 사용, 용도, 사용하는, 프로그램, 게임명, 기재, 강의들을때, 사용할, 자...   \n",
       "4  2019.04.28  [1, 사용, 용도, 사용하는, 프로그램, 게임명, 기재, 문서편집, 넷플릭스시청,...   \n",
       "\n",
       "  recommendation  \n",
       "0             []  \n",
       "1             []  \n",
       "2             []  \n",
       "3             []  \n",
       "4             []  "
      ]
     },
     "execution_count": 17,
     "metadata": {},
     "output_type": "execute_result"
    }
   ],
   "source": [
    "data1.head()"
   ]
  },
  {
   "cell_type": "code",
   "execution_count": 18,
   "metadata": {},
   "outputs": [],
   "source": [
    "data1.to_csv('date & purpose split & recommendation.csv',encoding='ms949')"
   ]
  }
 ],
 "metadata": {
  "kernelspec": {
   "display_name": "Python 3",
   "language": "python",
   "name": "python3"
  },
  "language_info": {
   "codemirror_mode": {
    "name": "ipython",
    "version": 3
   },
   "file_extension": ".py",
   "mimetype": "text/x-python",
   "name": "python",
   "nbconvert_exporter": "python",
   "pygments_lexer": "ipython3",
   "version": "3.7.3"
  }
 },
 "nbformat": 4,
 "nbformat_minor": 2
}
