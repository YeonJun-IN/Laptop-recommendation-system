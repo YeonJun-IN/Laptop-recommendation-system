{
 "cells": [
  {
   "cell_type": "code",
   "execution_count": 81,
   "metadata": {},
   "outputs": [],
   "source": [
    "from selenium import webdriver\n",
    "import time\n",
    "import pandas as pd\n",
    "import numpy as np"
   ]
  },
  {
   "cell_type": "markdown",
   "metadata": {},
   "source": [
    "# 크롬 드라이버 경로 지정"
   ]
  },
  {
   "cell_type": "code",
   "execution_count": 67,
   "metadata": {},
   "outputs": [],
   "source": [
    "path = 'C:/Users/mbnb8/Downloads/chromedriver.exe'"
   ]
  },
  {
   "cell_type": "code",
   "execution_count": 68,
   "metadata": {
    "scrolled": true
   },
   "outputs": [],
   "source": [
    "driver = webdriver.Chrome(path) \n",
    "#여기서 우리가 제어하고자 하는 chrom 창이 뜸.\n",
    "#그거 끄면 안됨"
   ]
  },
  {
   "cell_type": "markdown",
   "metadata": {},
   "source": [
    "# 크롤링 하고자 하는 링크 get"
   ]
  },
  {
   "cell_type": "code",
   "execution_count": 88,
   "metadata": {
    "scrolled": true
   },
   "outputs": [],
   "source": [
    "driver.get('http://cws.danawa.com/cmRecommend/cm_List.php?nSite=5&logger_kw=cmnotebook_shoppinghelp')\n",
    "time.sleep(1)\n",
    "#실행하면 해당 링크가 크롬창으로 열린다!"
   ]
  },
  {
   "cell_type": "markdown",
   "metadata": {},
   "source": [
    "# 1페이지 부터 10페이지 까지 끌어오기"
   ]
  },
  {
   "cell_type": "code",
   "execution_count": 89,
   "metadata": {},
   "outputs": [],
   "source": [
    "text = []\n",
    "user = []\n",
    "for i in range(1,10+1): \n",
    "    #1페이지에서 2페이지갈 때는 i:1, 2에서 3갈때는 i:2, 9에서 10갈때는 i:9\n",
    "    text_page = driver.find_elements_by_class_name(\"comment\")\n",
    "    user_page = driver.find_elements_by_class_name(\"user\")\n",
    "    num_text_in_page = len(text_page)\n",
    "    \n",
    "    for j in range(num_text_in_page):\n",
    "        text += [text_page[j].text]\n",
    "        user += [user_page[j].text]\n",
    "    \n",
    "    driver.find_elements_by_xpath(\"\"\"//*[@id=\"qna_List\"]/ul/div/div/a[\"\"\"+str(i)+\"\"\"]\"\"\")[0].click()\n",
    "    time.sleep(2)\n",
    "\n",
    "for h in range(30): #30으로 핳면 310페이지 까지\n",
    "    for i in range(2,11+1):\n",
    "        text_page = driver.find_elements_by_class_name(\"comment\")\n",
    "        user_page = driver.find_elements_by_class_name(\"user\")\n",
    "        num_text_in_page = len(text_page)\n",
    "    \n",
    "        for j in range(num_text_in_page):\n",
    "            text += [text_page[j].text]\n",
    "            user += [user_page[j].text]\n",
    "    \n",
    "        driver.find_elements_by_xpath(\"\"\"//*[@id=\"qna_List\"]/ul/div/div/a[\"\"\"+str(i)+\"\"\"]\"\"\")[0].click()\n",
    "        time.sleep(2)\n"
   ]
  },
  {
   "cell_type": "code",
   "execution_count": 92,
   "metadata": {},
   "outputs": [],
   "source": [
    "data = pd.DataFrame({'user': user,'comment': text})"
   ]
  },
  {
   "cell_type": "code",
   "execution_count": 94,
   "metadata": {},
   "outputs": [],
   "source": [
    "data.to_csv('data.csv',encoding='ms949')"
   ]
  },
  {
   "cell_type": "code",
   "execution_count": null,
   "metadata": {},
   "outputs": [],
   "source": []
  },
  {
   "cell_type": "code",
   "execution_count": null,
   "metadata": {},
   "outputs": [],
   "source": []
  }
 ],
 "metadata": {
  "kernelspec": {
   "display_name": "Python 3",
   "language": "python",
   "name": "python3"
  },
  "language_info": {
   "codemirror_mode": {
    "name": "ipython",
    "version": 3
   },
   "file_extension": ".py",
   "mimetype": "text/x-python",
   "name": "python",
   "nbconvert_exporter": "python",
   "pygments_lexer": "ipython3",
   "version": "3.6.5"
  }
 },
 "nbformat": 4,
 "nbformat_minor": 2
}
